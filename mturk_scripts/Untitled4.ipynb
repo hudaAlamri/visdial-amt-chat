{
 "cells": [
  {
   "cell_type": "code",
   "execution_count": 1,
   "metadata": {},
   "outputs": [
    {
     "name": "stdout",
     "output_type": "stream",
     "text": [
      "All database tables created.\n"
     ]
    }
   ],
   "source": [
    "import MySQLdb as mdb\n",
    "import datetime\n",
    "import sys\n",
    "import os\n",
    "from peewee import *\n",
    "import glob\n",
    "from collections import defaultdict\n",
    "import json\n",
    "import shortuuid\n",
    "import random\n",
    "from createDatabase import *\n",
    "\n",
    "config = json.load(open('config.json', 'r'))\n",
    "con = mdb.connect(host=\"localhost\", user=config['db_user'], db=config['db_name'], passwd=config['db_pass'])\n",
    "database = MySQLDatabase(config['db_name'], user=config['db_user'], password=config['db_pass'])\n",
    "\n",
    "# This creates db tables if they don't exist\n",
    "createDatabaseTables()\n",
    "\n",
    "# This populates the 'image' and 'caption' tables with all images from train2014 and one randomly chosen caption per image\n",
    "# TODO:\n",
    "# 1) Create a symbolic link from `static/dataset` to `/path/to/mscoco/images/`\n",
    "# 2) Create folder `static/annotations` and download COCO caption files (captions_train2014.json, etc)\n",
    "# fillPilotData()\n",
    "\n",
    "# This pushes 3000 images from the 'image' table with numHitsFinished == 0 to the redis queue 'visdial_queue'\n",
    "# createRedisQueue()\n",
    "\n"
   ]
  },
  {
   "cell_type": "code",
   "execution_count": 2,
   "metadata": {},
   "outputs": [
    {
     "name": "stdout",
     "output_type": "stream",
     "text": [
      "Loading caption train2014 data...\n",
      "SELECT * FROM image WHERE imageSubType = 'train2014'\n",
      "0\n",
      "0\n",
      "Captions table for train2014 created.\n"
     ]
    }
   ],
   "source": [
    "fillPilotData()"
   ]
  },
  {
   "cell_type": "code",
   "execution_count": 3,
   "metadata": {},
   "outputs": [
    {
     "name": "stdout",
     "output_type": "stream",
     "text": [
      "createRedisQueue called.\n",
      "0\n"
     ]
    }
   ],
   "source": [
    "createRedisQueue()"
   ]
  },
  {
   "cell_type": "code",
   "execution_count": null,
   "metadata": {
    "collapsed": true
   },
   "outputs": [],
   "source": []
  }
 ],
 "metadata": {
  "kernelspec": {
   "display_name": "Python 2",
   "language": "python",
   "name": "python2"
  },
  "language_info": {
   "codemirror_mode": {
    "name": "ipython",
    "version": 2
   },
   "file_extension": ".py",
   "mimetype": "text/x-python",
   "name": "python",
   "nbconvert_exporter": "python",
   "pygments_lexer": "ipython2",
   "version": "2.7.12"
  }
 },
 "nbformat": 4,
 "nbformat_minor": 2
}
